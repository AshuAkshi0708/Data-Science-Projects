{
 "cells": [
  {
   "cell_type": "markdown",
   "metadata": {},
   "source": [
    "## Analysis of Intel-Berkeley lab data\n",
    "\n",
    "### Dataset and approach Description:\n",
    "- Sensor Data recorded from 54 sensors installed in the lab\n",
    "- Data recorded every 31 seconds\n",
    "- Temperature, Humidity, Light, Voltage\n",
    "- 2.3million+ recorded readings\n",
    "\n",
    "#### Potential directions to analyse:\n",
    "- Predict the missing sensor data for all the epochs\n",
    "- Live visualisation of the data corresponding to each sensor\n",
    "- Identify key areas to set careful monitoring\n",
    "\n",
    "#### Approach followed in this notebook\n",
    "- Extracted the data and transformed it into usable format\n",
    "- Parallelised the data and used spark for efficient computation\n",
    "- I clustered the motes based on the location\n",
    "- Calculated the Statistics for each variable in every cluster\n",
    "       - Used SQL dataframes to filter out and perform operations\n",
    "- Used Smaller samples to make computation easier\n",
    "- Box plots of all the variables in each cluster - Outlier analysis\n",
    "- Run plots for each variable values across clusters\n",
    "- Scatter plot between the variables to check for correlation"
   ]
  },
  {
   "cell_type": "code",
   "execution_count": 1,
   "metadata": {},
   "outputs": [],
   "source": [
    "import numpy as np\n",
    "import random\n",
    "import pandas as pd\n",
    "import matplotlib.pyplot as plt\n",
    "import matplotlib.figure as Fig\n",
    "import matplotlib.patches as patches\n",
    "import matplotlib.image as mpimg\n",
    "#DATA_HOME =\"C:/Users/ashak/Desktop/Site_1001/\";\n",
    "data_dir='../Site1001/'"
   ]
  },
  {
   "cell_type": "code",
   "execution_count": 2,
   "metadata": {},
   "outputs": [],
   "source": [
    "import findspark\n",
    "findspark.init()\n",
    "\n",
    "from pyspark import SparkContext\n",
    "sc = SparkContext(master=\"local[4]\")\n",
    "\n",
    "from pyspark import SparkContext\n",
    "from pyspark.sql import *\n",
    "sqlContext = SQLContext(sc)"
   ]
  },
  {
   "cell_type": "code",
   "execution_count": 3,
   "metadata": {},
   "outputs": [],
   "source": [
    "import csv\n",
    "\n",
    "def txt_to_csv(txt_file,csv_file):\n",
    "    \n",
    "    in_txt = csv.reader(open(txt_file, \"rt\"), delimiter = ' ')\n",
    "    out_csv = csv.writer(open(csv_file, 'wt'))\n",
    "\n",
    "    out_csv.writerows(in_txt)\n",
    "\n",
    "txt_to_csv('data.txt','data.csv')\n",
    "txt_to_csv('mote_locs.txt','mote_locs.csv')"
   ]
  },
  {
   "cell_type": "code",
   "execution_count": 3,
   "metadata": {},
   "outputs": [],
   "source": [
    "from pyspark.sql.types import StructType, StructField\n",
    "from pyspark.sql.types import DoubleType, IntegerType, StringType,DateType, TimestampType\n",
    "import pyspark.sql.functions as F\n",
    "schema = StructType([\n",
    "    StructField(\"Date\", StringType()),\n",
    "    StructField(\"Time\", StringType()),\n",
    "    StructField(\"epoch_id\", IntegerType()),\n",
    "    StructField(\"mote_id\", IntegerType()),\n",
    "    StructField(\"Temp\", DoubleType()),\n",
    "    StructField(\"Hum\", DoubleType()),\n",
    "    StructField(\"Light\", DoubleType()),\n",
    "    StructField(\"voltage\", DoubleType())\n",
    "])\n",
    "loc_schema = StructType([\n",
    "    StructField(\"Mote_id\", IntegerType()),\n",
    "    StructField(\"x_loc\", DoubleType()),\n",
    "    StructField(\"y_loc\", DoubleType())\n",
    "])\n"
   ]
  },
  {
   "cell_type": "code",
   "execution_count": 4,
   "metadata": {},
   "outputs": [
    {
     "name": "stdout",
     "output_type": "stream",
     "text": [
      "+----------+---------------+--------+-------+-------+--------+-----+-------+\n",
      "|      Date|           Time|epoch_id|mote_id|   Temp|     Hum|Light|voltage|\n",
      "+----------+---------------+--------+-------+-------+--------+-----+-------+\n",
      "|2004-03-31|03:38:15.757551|       2|      1|122.153|-3.91901|11.04|2.03397|\n",
      "|2004-02-28| 00:59:16.02785|       3|      1|19.9884| 37.0933|45.08|2.69964|\n",
      "|2004-02-28| 01:03:16.33393|      11|      1|19.3024| 38.4629|45.08|2.68742|\n",
      "|2004-02-28|01:06:16.013453|      17|      1|19.1652| 38.8039|45.08|2.68742|\n",
      "|2004-02-28|01:06:46.778088|      18|      1| 19.175| 38.8379|45.08|2.69964|\n",
      "+----------+---------------+--------+-------+-------+--------+-----+-------+\n",
      "only showing top 5 rows\n",
      "\n"
     ]
    }
   ],
   "source": [
    "my_data_unfiltered = sqlContext.read.format(\"csv\").schema(schema).load(\"data.csv\")\n",
    "my_locData =  sqlContext.read.format(\"csv\").schema(loc_schema).load(\"mote_locs.csv\")\n",
    "my_data_unfiltered.show(5)"
   ]
  },
  {
   "cell_type": "code",
   "execution_count": 5,
   "metadata": {},
   "outputs": [
    {
     "name": "stdout",
     "output_type": "stream",
     "text": [
      "+-------+------------------+-----------------+-----------------+------------------+-----------------+-------------------+\n",
      "|summary|          epoch_id|          mote_id|             Temp|               Hum|            Light|            voltage|\n",
      "+-------+------------------+-----------------+-----------------+------------------+-----------------+-------------------+\n",
      "|  count|           2313682|          2313156|          2312781|           2312780|          2219804|            2313156|\n",
      "|   mean|33039.931370430335|28.54412369939598|39.20700083579766|33.908142905399345|407.2110001525446| 2.4925515484148937|\n",
      "| stddev| 18368.52380960397| 50.6240829814907|37.41922711170069|17.321524227790476|539.4276477260996|0.17957429326125346|\n",
      "|    min|                 0|                1|            -38.4|          -8983.13|              0.0|         0.00910083|\n",
      "|    max|             65535|            65407|          385.568|           137.512|          1847.36|              18.56|\n",
      "+-------+------------------+-----------------+-----------------+------------------+-----------------+-------------------+\n",
      "\n"
     ]
    }
   ],
   "source": [
    "my_data_unfiltered.describe().drop(\"Date\").drop(\"Time\").show()"
   ]
  },
  {
   "cell_type": "markdown",
   "metadata": {},
   "source": [
    "### Clulstering the Motes Based on their geographical location\n",
    "\n",
    "- Motes are located across the lab.\n",
    "- Clustering based on the geographical location would greatly aid in identifying the motes that most probably communicates with each other.\n",
    "- Defining a center head will be useful in analysing data in smaller groups of connected motes.\n",
    "\n",
    "#### Choosing number of clusters \n",
    "- Using k-means algorithms to cluster the motes\n",
    "- Identifying the right number of clusters using elbow method.\n",
    "- Plotting RMSE vs number of centers.\n",
    "\n",
    "#### Clustering the motes\n",
    "- As stated earlier, K-means clustering will be used to cluster the motes\n",
    "- Kmeans function from sklearn's cluster package is used here."
   ]
  },
  {
   "cell_type": "code",
   "execution_count": 6,
   "metadata": {},
   "outputs": [
    {
     "data": {
      "image/png": "[encoded data removed]",
      "text/plain": [
       "<Figure size 432x288 with 1 Axes>"
      ]
     },
     "metadata": {},
     "output_type": "display_data"
    }
   ],
   "source": [
    "loc_Data =  my_locData.toPandas()\n",
    "plt.scatter(loc_Data['x_loc'], loc_Data['y_loc'])\n",
    "for label, x, y in zip(loc_Data['Mote_id'], loc_Data['x_loc'], loc_Data['y_loc']):\n",
    "    plt.annotate(label, xy=(x, y))\n",
    "plt.gca().invert_xaxis()\n",
    "plt.gca().invert_yaxis()\n",
    "plt.show()"
   ]
  },
  {
   "cell_type": "code",
   "execution_count": 7,
   "metadata": {},
   "outputs": [],
   "source": [
    "from sklearn.cluster import KMeans\n",
    "def RMSEvsK(n_centers,n,X,_title=\"\"):\n",
    "    solutions=[]\n",
    "    _range=range(1,n_centers*2)\n",
    "    for n_clusters in _range:\n",
    "        kmeans = KMeans(n_clusters).fit(X)\n",
    "        solutions.append(kmeans)\n",
    "\n",
    "    Inertia=[km.inertia_/n for km in solutions]\n",
    "\n",
    "    plt.plot(_range,Inertia);\n",
    "    plt.xlabel('# centers in model')\n",
    "    plt.ylabel('RMSE')\n",
    "    #plt.title(_title+' full scale')\n",
    "    plt.ylim([0,max(Inertia)])\n"
   ]
  },
  {
   "cell_type": "code",
   "execution_count": 9,
   "metadata": {},
   "outputs": [
    {
     "data": {
      "image/png": "[encoded data removed]",
      "text/plain": [
       "<Figure size 432x288 with 1 Axes>"
      ]
     },
     "metadata": {},
     "output_type": "display_data"
    }
   ],
   "source": [
    "k= 8\n",
    "n=2\n",
    "X = np.array(loc_Data.iloc[:,1:])\n",
    "RMSEvsK(k,n,X,_title=\"k=%d, n=%d\"%(k,n))"
   ]
  },
  {
   "cell_type": "code",
   "execution_count": 10,
   "metadata": {},
   "outputs": [],
   "source": [
    "n = 10\n",
    "kmeans = KMeans(n_clusters=n)\n",
    "# Fitting with inputs\n",
    "kmeans = kmeans.fit(X)\n",
    "# Predicting the clusters\n",
    "labels = kmeans.predict(X)\n",
    "# Getting the cluster centers\n",
    "C = kmeans.cluster_centers_\n"
   ]
  },
  {
   "cell_type": "code",
   "execution_count": 11,
   "metadata": {},
   "outputs": [
    {
     "data": {
      "image/png": "[encoded data removed]",
      "text/plain": [
       "<Figure size 432x288 with 1 Axes>"
      ]
     },
     "metadata": {},
     "output_type": "display_data"
    }
   ],
   "source": [
    "fig = plt.figure()\n",
    "ax = fig.add_subplot(1, 1, 1)\n",
    "ax.scatter(X[:, 0], X[:, 1], c = labels.astype(np.float)*100)\n",
    "ax.scatter(C[:, 0], C[:, 1], marker='*', c='#050505', s=100)\n",
    "for label, x, y in zip(loc_Data['Mote_id'], loc_Data['x_loc'], loc_Data['y_loc']):\n",
    "    ax.annotate(label, xy=(x, y))\n",
    "plt.gca().invert_xaxis()\n",
    "plt.gca().invert_yaxis()"
   ]
  },
  {
   "cell_type": "code",
   "execution_count": 12,
   "metadata": {},
   "outputs": [
    {
     "data": {
      "text/plain": [
       "<matplotlib.image.AxesImage at 0x7fb182f25668>"
      ]
     },
     "execution_count": 12,
     "metadata": {},
     "output_type": "execute_result"
    },
    {
     "data": {
      "image/png": "[encoded data removed]",
      "text/plain": [
       "<Figure size 432x288 with 1 Axes>"
      ]
     },
     "metadata": {},
     "output_type": "display_data"
    }
   ],
   "source": [
    "im = mpimg.imread('lab.png')\n",
    "# Display the image\n",
    "plt.imshow(im)"
   ]
  },
  {
   "cell_type": "markdown",
   "metadata": {},
   "source": [
    "### Grouping the motes based on the clusters\n",
    "- The motes were groups based on the cluster number.\n",
    "- The data from each cluster can be analysed statistically and local change in variables can be observed"
   ]
  },
  {
   "cell_type": "code",
   "execution_count": 13,
   "metadata": {},
   "outputs": [
    {
     "data": {
      "text/plain": [
       "[(25, 26, 27, 28, 29, 30, 31),\n",
       " (6, 7, 8, 9, 10, 52, 53),\n",
       " (37, 38, 39, 40, 41, 42),\n",
       " (11, 12, 13, 14, 15),\n",
       " (47, 48, 49, 50, 51),\n",
       " (16, 17, 18, 19, 20),\n",
       " (1, 2, 3, 4, 5),\n",
       " (21, 22, 23, 24),\n",
       " (0, 32, 33, 34, 35, 36),\n",
       " (43, 44, 45, 46)]"
      ]
     },
     "execution_count": 13,
     "metadata": {},
     "output_type": "execute_result"
    }
   ],
   "source": [
    "labels_list = list(labels)\n",
    "cluster=[]\n",
    "for i in range(n):\n",
    "    cluster.append(tuple((labels==i).nonzero()[0]))\n",
    "cluster"
   ]
  },
  {
   "cell_type": "markdown",
   "metadata": {},
   "source": [
    "#### Calculating statistics for each of the cluster for each measurement"
   ]
  },
  {
   "cell_type": "code",
   "execution_count": 14,
   "metadata": {},
   "outputs": [],
   "source": [
    "from numpy import linalg as LA\n",
    "import numpy as np\n",
    "from pyspark.sql.functions import col \n",
    "\n",
    "\n",
    "def computeStatistics(sqlContext,df,cluster):\n",
    "    \"\"\"Compute all of the statistics for a given dataframe\n",
    "    Input: sqlContext: to perform SQL queries\n",
    "            df: Unfiltered Dataframe\n",
    "    returns: STAT, a dictionary of dictionaries. First key is measurement, \n",
    "             second keys described in computeStats.STAT_Descriptions\n",
    "    \"\"\"\n",
    "    \n",
    "    STAT={}  # dictionary storing the statistics for each measurement\n",
    "    measurements=['Temp', 'Hum', 'voltage', 'Light']\n",
    "    i = 0;\n",
    "    for clust in cluster:\n",
    "        sqlContext.registerDataFrameAsTable(df,'table')\n",
    "        for meas in measurements:\n",
    "            Query=\"SELECT %s FROM table\\n\\t WHERE mote_id IN {0}\"%(meas)\n",
    "            mdf = sqlContext.sql(Query.format(clust))\n",
    "            data=mdf.rdd\n",
    "            #Compute basic statistics\n",
    "            STAT[meas+str(i)]=computeOverAllDist(data)   # Compute the statistics \n",
    "        i = i+1;\n",
    "\n",
    "    return STAT\n",
    "def find_percentiles(SortedVals,percentile):\n",
    "    L=int(len(SortedVals)/percentile)\n",
    "    return SortedVals[L],SortedVals[-L]\n",
    "  \n",
    "def computeOverAllDist(rdd0):\n",
    "    flat=rdd0.flatMap(lambda v:list(v)).filter(lambda x: x is not None).filter(lambda x: x != \"\").cache()\n",
    "    count,S1,S2=flat.map(lambda x: np.float64([1,int(x),int(x)**2]))\\\n",
    "                  .reduce(lambda x,y: x+y)\n",
    "    mean=S1/count\n",
    "    std=np.sqrt(S2/count-mean**2)\n",
    "    Vals=flat.sample(False,0.2).collect()\n",
    "    SortedVals=np.array(sorted(Vals))\n",
    "    low100,high100=find_percentiles(SortedVals,100)\n",
    "    low1000,high1000=find_percentiles(SortedVals,1000)\n",
    "    return {\n",
    "          'mean':mean,\\\n",
    "          'std':std,\\\n",
    "          'SortedVals':SortedVals,\\\n",
    "          'low100':low100,\\\n",
    "          'high100':high100,\\\n",
    "          'low1000':low100,\\\n",
    "          'high1000':high1000\n",
    "          }\n",
    "        "
   ]
  },
  {
   "cell_type": "code",
   "execution_count": 13,
   "metadata": {
    "collapsed": true
   },
   "outputs": [
    {
     "name": "stdout",
     "output_type": "stream",
     "text": [
      "(0, 33, 34, 35, 36)\n",
      "Temp : shape of mdf is  193616\n",
      "Hum : shape of mdf is  193616\n",
      "voltage : shape of mdf is  193616\n",
      "Light : shape of mdf is  193616\n",
      "(6, 7, 8, 9, 10, 11, 12)\n",
      "Temp : shape of mdf is  269773\n",
      "Hum : shape of mdf is  269773\n",
      "voltage : shape of mdf is  269773\n",
      "Light : shape of mdf is  269773\n",
      "(21, 22, 23, 24, 25, 26, 27)\n",
      "Temp : shape of mdf is  390816\n",
      "Hum : shape of mdf is  390816\n",
      "voltage : shape of mdf is  390816\n",
      "Light : shape of mdf is  390816\n",
      "(43, 44, 45, 46)\n",
      "Temp : shape of mdf is  195915\n",
      "Hum : shape of mdf is  195915\n",
      "voltage : shape of mdf is  195915\n",
      "Light : shape of mdf is  195915\n",
      "(13, 14, 15)\n",
      "Temp : shape of mdf is  65646\n",
      "Hum : shape of mdf is  65646\n",
      "voltage : shape of mdf is  65646\n",
      "Light : shape of mdf is  65646\n",
      "(37, 38, 39, 40, 41, 42)\n",
      "Temp : shape of mdf is  262310\n",
      "Hum : shape of mdf is  262310\n",
      "voltage : shape of mdf is  262310\n",
      "Light : shape of mdf is  262310\n",
      "(16, 17, 18, 19, 20)\n",
      "Temp : shape of mdf is  171992\n",
      "Hum : shape of mdf is  171992\n",
      "voltage : shape of mdf is  171992\n",
      "Light : shape of mdf is  171992\n",
      "(47, 48, 49, 50, 51, 52, 53)\n",
      "Temp : shape of mdf is  276666\n",
      "Hum : shape of mdf is  276666\n",
      "voltage : shape of mdf is  276666\n",
      "Light : shape of mdf is  276666\n",
      "(1, 2, 3, 4, 5)\n",
      "Temp : shape of mdf is  180424\n",
      "Hum : shape of mdf is  180424\n",
      "voltage : shape of mdf is  180424\n",
      "Light : shape of mdf is  180424\n",
      "(28, 29, 30, 31, 32)\n",
      "Temp : shape of mdf is  260748\n",
      "Hum : shape of mdf is  260748\n",
      "voltage : shape of mdf is  260748\n",
      "Light : shape of mdf is  260748\n"
     ]
    }
   ],
   "source": [
    "STAT = computeStatistics(sqlContext,my_data_unfiltered,cluster)"
   ]
  },
  {
   "cell_type": "code",
   "execution_count": 14,
   "metadata": {},
   "outputs": [],
   "source": [
    "STAT_Descriptions=[\n",
    "('SortedVals', 'Sample of values', 'vector whose length varies between measurements'),\n",
    " ('mean', 'mean value', ()),\n",
    " ('std', 'std', ()),\n",
    " ('low100', 'bottom 1%', ()),\n",
    " ('high100', 'top 1%', ()),\n",
    " ('low1000', 'bottom 0.1%', ()),\n",
    " ('high1000', 'top 0.1%', ()),\n",
    "]\n"
   ]
  },
  {
   "cell_type": "code",
   "execution_count": 15,
   "metadata": {
    "collapsed": true
   },
   "outputs": [
    {
     "name": "stdout",
     "output_type": "stream",
     "text": [
      "total 459281\r\n",
      "drwxrwxrwx 1 jovyan staff         0 May 11 17:15 adaptfilt\r\n",
      "-rwxrwxrwx 1 jovyan staff 153224628 May 14 16:08 data.csv\r\n",
      "-rwxrwxrwx 1 jovyan staff 150912512 May 10 06:51 data.tar\r\n",
      "-rwxrwxrwx 1 jovyan staff 150910946 May 10 07:18 data.txt\r\n",
      "-rwxrwxrwx 1 jovyan staff     86688 May 10 09:25 hs_err_pid371.log\r\n",
      "-rwxrwxrwx 1 jovyan staff     89145 May 11 20:36 hs_err_pid8892.log\r\n",
      "-rwxrwxrwx 1 jovyan staff      1488 May 11 21:05 hs_err_pid8999.log\r\n",
      "-rwxrwxrwx 1 jovyan staff    188965 May 15 00:18 Intel_LabData_Analysis.ipynb\r\n",
      "-rwxrwxrwx 1 jovyan staff     76904 May 10 04:13 lab.png\r\n",
      "drwxrwxrwx 1 jovyan staff         0 May 14 01:26 lib\r\n",
      "-rwxrwxrwx 1 jovyan staff       606 May 14 16:08 mote_locs.csv\r\n",
      "-rwxrwxrwx 1 jovyan staff      2560 May 10 06:51 mote_locs.tar\r\n",
      "-rwxrwxrwx 1 jovyan staff       552 May 10 04:13 mote_locs.txt\r\n",
      "-rwxrwxrwx 1 jovyan staff    376683 May 10 09:25 replay_pid371.log\r\n",
      "drwxrwxrwx 1 jovyan staff         0 May 11 17:22 spark-warehouse\r\n",
      "-rwxrwxrwx 1 jovyan staff  14407887 May 15 00:19 STAT.pickle\r\n"
     ]
    }
   ],
   "source": [
    "from pickle import dump\n",
    "\n",
    "filename=data_dir+'/STAT.pickle'\n",
    "dump((STAT,STAT_Descriptions),open(filename,'wb'))\n",
    "!ls -l $data_dir"
   ]
  },
  {
   "cell_type": "markdown",
   "metadata": {},
   "source": [
    "### Overall clusterwise statistics\n",
    "- The overall clusterwise statistics is given below for each variable measured\n",
    "- could be used to identfy the distribution of values at different time instants as a z-plot"
   ]
  },
  {
   "cell_type": "code",
   "execution_count": 50,
   "metadata": {},
   "outputs": [
    {
     "data": {
      "text/html": [
       "<div>\n",
       "<style scoped>\n",
       "    .dataframe tbody tr th:only-of-type {\n",
       "        vertical-align: middle;\n",
       "    }\n",
       "\n",
       "    .dataframe tbody tr th {\n",
       "        vertical-align: top;\n",
       "    }\n",
       "\n",
       "    .dataframe thead th {\n",
       "        text-align: right;\n",
       "    }\n",
       "</style>\n",
       "<table border=\"1\" class=\"dataframe\">\n",
       "  <thead>\n",
       "    <tr style=\"text-align: right;\">\n",
       "      <th></th>\n",
       "      <th>Light0</th>\n",
       "      <th>Light1</th>\n",
       "      <th>Light2</th>\n",
       "      <th>Light3</th>\n",
       "      <th>Light4</th>\n",
       "      <th>Light5</th>\n",
       "      <th>Light6</th>\n",
       "      <th>Light7</th>\n",
       "      <th>Light8</th>\n",
       "      <th>Light9</th>\n",
       "    </tr>\n",
       "  </thead>\n",
       "  <tbody>\n",
       "    <tr>\n",
       "      <th>high100</th>\n",
       "      <td>1847.36</td>\n",
       "      <td>1847.36</td>\n",
       "      <td>1847.36</td>\n",
       "      <td>1847.36</td>\n",
       "      <td>1670.72</td>\n",
       "      <td>1847.36</td>\n",
       "      <td>1847.36</td>\n",
       "      <td>1847.36</td>\n",
       "      <td>566.72</td>\n",
       "      <td>1847.36</td>\n",
       "    </tr>\n",
       "    <tr>\n",
       "      <th>high1000</th>\n",
       "      <td>1847.36</td>\n",
       "      <td>1847.36</td>\n",
       "      <td>1847.36</td>\n",
       "      <td>1847.36</td>\n",
       "      <td>1847.36</td>\n",
       "      <td>1847.36</td>\n",
       "      <td>1847.36</td>\n",
       "      <td>1847.36</td>\n",
       "      <td>684.48</td>\n",
       "      <td>1847.36</td>\n",
       "    </tr>\n",
       "    <tr>\n",
       "      <th>low100</th>\n",
       "      <td>0.46</td>\n",
       "      <td>0.46</td>\n",
       "      <td>0.46</td>\n",
       "      <td>0.46</td>\n",
       "      <td>0.46</td>\n",
       "      <td>0.46</td>\n",
       "      <td>0.46</td>\n",
       "      <td>0.46</td>\n",
       "      <td>0.92</td>\n",
       "      <td>0.46</td>\n",
       "    </tr>\n",
       "    <tr>\n",
       "      <th>low1000</th>\n",
       "      <td>0.46</td>\n",
       "      <td>0.46</td>\n",
       "      <td>0.46</td>\n",
       "      <td>0.46</td>\n",
       "      <td>0.46</td>\n",
       "      <td>0.46</td>\n",
       "      <td>0.46</td>\n",
       "      <td>0.46</td>\n",
       "      <td>0.92</td>\n",
       "      <td>0.46</td>\n",
       "    </tr>\n",
       "    <tr>\n",
       "      <th>mean</th>\n",
       "      <td>551.003</td>\n",
       "      <td>432.438</td>\n",
       "      <td>356.788</td>\n",
       "      <td>366.514</td>\n",
       "      <td>326.561</td>\n",
       "      <td>443.185</td>\n",
       "      <td>384.502</td>\n",
       "      <td>471.887</td>\n",
       "      <td>167.554</td>\n",
       "      <td>451.892</td>\n",
       "    </tr>\n",
       "    <tr>\n",
       "      <th>std</th>\n",
       "      <td>670.104</td>\n",
       "      <td>589.187</td>\n",
       "      <td>494.826</td>\n",
       "      <td>486.532</td>\n",
       "      <td>414.825</td>\n",
       "      <td>489.442</td>\n",
       "      <td>543.957</td>\n",
       "      <td>596.521</td>\n",
       "      <td>159.489</td>\n",
       "      <td>563.499</td>\n",
       "    </tr>\n",
       "  </tbody>\n",
       "</table>\n",
       "</div>"
      ],
      "text/plain": [
       "           Light0   Light1   Light2   Light3   Light4   Light5   Light6  \\\n",
       "high100   1847.36  1847.36  1847.36  1847.36  1670.72  1847.36  1847.36   \n",
       "high1000  1847.36  1847.36  1847.36  1847.36  1847.36  1847.36  1847.36   \n",
       "low100       0.46     0.46     0.46     0.46     0.46     0.46     0.46   \n",
       "low1000      0.46     0.46     0.46     0.46     0.46     0.46     0.46   \n",
       "mean      551.003  432.438  356.788  366.514  326.561  443.185  384.502   \n",
       "std       670.104  589.187  494.826  486.532  414.825  489.442  543.957   \n",
       "\n",
       "           Light7   Light8   Light9  \n",
       "high100   1847.36   566.72  1847.36  \n",
       "high1000  1847.36   684.48  1847.36  \n",
       "low100       0.46     0.92     0.46  \n",
       "low1000      0.46     0.92     0.46  \n",
       "mean      471.887  167.554  451.892  \n",
       "std       596.521  159.489  563.499  "
      ]
     },
     "execution_count": 50,
     "metadata": {},
     "output_type": "execute_result"
    }
   ],
   "source": [
    "df = pd.DataFrame(STAT).drop('SortedVals')\n",
    "df.iloc[:,10:20]"
   ]
  },
  {
   "cell_type": "code",
   "execution_count": 51,
   "metadata": {},
   "outputs": [
    {
     "data": {
      "text/html": [
       "<div>\n",
       "<style scoped>\n",
       "    .dataframe tbody tr th:only-of-type {\n",
       "        vertical-align: middle;\n",
       "    }\n",
       "\n",
       "    .dataframe tbody tr th {\n",
       "        vertical-align: top;\n",
       "    }\n",
       "\n",
       "    .dataframe thead th {\n",
       "        text-align: right;\n",
       "    }\n",
       "</style>\n",
       "<table border=\"1\" class=\"dataframe\">\n",
       "  <thead>\n",
       "    <tr style=\"text-align: right;\">\n",
       "      <th></th>\n",
       "      <th>Hum0</th>\n",
       "      <th>Hum1</th>\n",
       "      <th>Hum2</th>\n",
       "      <th>Hum3</th>\n",
       "      <th>Hum4</th>\n",
       "      <th>Hum5</th>\n",
       "      <th>Hum6</th>\n",
       "      <th>Hum7</th>\n",
       "      <th>Hum8</th>\n",
       "      <th>Hum9</th>\n",
       "    </tr>\n",
       "  </thead>\n",
       "  <tbody>\n",
       "    <tr>\n",
       "      <th>high100</th>\n",
       "      <td>53.2847</td>\n",
       "      <td>50.3858</td>\n",
       "      <td>53.1266</td>\n",
       "      <td>51.7933</td>\n",
       "      <td>51.5063</td>\n",
       "      <td>52.3024</td>\n",
       "      <td>114.789</td>\n",
       "      <td>52.4294</td>\n",
       "      <td>49.0969</td>\n",
       "      <td>59.0658</td>\n",
       "    </tr>\n",
       "    <tr>\n",
       "      <th>high1000</th>\n",
       "      <td>55.8261</td>\n",
       "      <td>52.4929</td>\n",
       "      <td>56.3858</td>\n",
       "      <td>54.0415</td>\n",
       "      <td>54.3245</td>\n",
       "      <td>55.0456</td>\n",
       "      <td>114.894</td>\n",
       "      <td>54.9204</td>\n",
       "      <td>49.8713</td>\n",
       "      <td>114.894</td>\n",
       "    </tr>\n",
       "    <tr>\n",
       "      <th>low100</th>\n",
       "      <td>-4</td>\n",
       "      <td>-4</td>\n",
       "      <td>-4</td>\n",
       "      <td>-4</td>\n",
       "      <td>-4</td>\n",
       "      <td>-4</td>\n",
       "      <td>-4</td>\n",
       "      <td>-3.91901</td>\n",
       "      <td>-3.91901</td>\n",
       "      <td>-4</td>\n",
       "    </tr>\n",
       "    <tr>\n",
       "      <th>low1000</th>\n",
       "      <td>-4</td>\n",
       "      <td>-4</td>\n",
       "      <td>-4</td>\n",
       "      <td>-4</td>\n",
       "      <td>-4</td>\n",
       "      <td>-4</td>\n",
       "      <td>-4</td>\n",
       "      <td>-3.91901</td>\n",
       "      <td>-3.91901</td>\n",
       "      <td>-4</td>\n",
       "    </tr>\n",
       "    <tr>\n",
       "      <th>mean</th>\n",
       "      <td>32.0122</td>\n",
       "      <td>32.955</td>\n",
       "      <td>31.0798</td>\n",
       "      <td>36.7906</td>\n",
       "      <td>36.1756</td>\n",
       "      <td>33.3333</td>\n",
       "      <td>31.2143</td>\n",
       "      <td>38.1731</td>\n",
       "      <td>33.0747</td>\n",
       "      <td>32.7221</td>\n",
       "    </tr>\n",
       "    <tr>\n",
       "      <th>std</th>\n",
       "      <td>17.5066</td>\n",
       "      <td>24.0158</td>\n",
       "      <td>15.6204</td>\n",
       "      <td>10.8826</td>\n",
       "      <td>15.0835</td>\n",
       "      <td>15.0958</td>\n",
       "      <td>19.101</td>\n",
       "      <td>11.3363</td>\n",
       "      <td>15.7551</td>\n",
       "      <td>18.8792</td>\n",
       "    </tr>\n",
       "  </tbody>\n",
       "</table>\n",
       "</div>"
      ],
      "text/plain": [
       "             Hum0     Hum1     Hum2     Hum3     Hum4     Hum5     Hum6  \\\n",
       "high100   53.2847  50.3858  53.1266  51.7933  51.5063  52.3024  114.789   \n",
       "high1000  55.8261  52.4929  56.3858  54.0415  54.3245  55.0456  114.894   \n",
       "low100         -4       -4       -4       -4       -4       -4       -4   \n",
       "low1000        -4       -4       -4       -4       -4       -4       -4   \n",
       "mean      32.0122   32.955  31.0798  36.7906  36.1756  33.3333  31.2143   \n",
       "std       17.5066  24.0158  15.6204  10.8826  15.0835  15.0958   19.101   \n",
       "\n",
       "             Hum7     Hum8     Hum9  \n",
       "high100   52.4294  49.0969  59.0658  \n",
       "high1000  54.9204  49.8713  114.894  \n",
       "low100   -3.91901 -3.91901       -4  \n",
       "low1000  -3.91901 -3.91901       -4  \n",
       "mean      38.1731  33.0747  32.7221  \n",
       "std       11.3363  15.7551  18.8792  "
      ]
     },
     "execution_count": 51,
     "metadata": {},
     "output_type": "execute_result"
    }
   ],
   "source": [
    "df.iloc[:,0:10]"
   ]
  },
  {
   "cell_type": "code",
   "execution_count": 52,
   "metadata": {},
   "outputs": [
    {
     "data": {
      "text/html": [
       "<div>\n",
       "<style scoped>\n",
       "    .dataframe tbody tr th:only-of-type {\n",
       "        vertical-align: middle;\n",
       "    }\n",
       "\n",
       "    .dataframe tbody tr th {\n",
       "        vertical-align: top;\n",
       "    }\n",
       "\n",
       "    .dataframe thead th {\n",
       "        text-align: right;\n",
       "    }\n",
       "</style>\n",
       "<table border=\"1\" class=\"dataframe\">\n",
       "  <thead>\n",
       "    <tr style=\"text-align: right;\">\n",
       "      <th></th>\n",
       "      <th>Temp0</th>\n",
       "      <th>Temp1</th>\n",
       "      <th>Temp2</th>\n",
       "      <th>Temp3</th>\n",
       "      <th>Temp4</th>\n",
       "      <th>Temp5</th>\n",
       "      <th>Temp6</th>\n",
       "      <th>Temp7</th>\n",
       "      <th>Temp8</th>\n",
       "      <th>Temp9</th>\n",
       "    </tr>\n",
       "  </thead>\n",
       "  <tbody>\n",
       "    <tr>\n",
       "      <th>high100</th>\n",
       "      <td>122.153</td>\n",
       "      <td>122.153</td>\n",
       "      <td>122.153</td>\n",
       "      <td>122.153</td>\n",
       "      <td>122.153</td>\n",
       "      <td>122.153</td>\n",
       "      <td>122.153</td>\n",
       "      <td>122.153</td>\n",
       "      <td>122.153</td>\n",
       "      <td>122.153</td>\n",
       "    </tr>\n",
       "    <tr>\n",
       "      <th>high1000</th>\n",
       "      <td>122.153</td>\n",
       "      <td>122.153</td>\n",
       "      <td>122.153</td>\n",
       "      <td>122.153</td>\n",
       "      <td>122.153</td>\n",
       "      <td>122.153</td>\n",
       "      <td>122.153</td>\n",
       "      <td>122.153</td>\n",
       "      <td>122.153</td>\n",
       "      <td>122.153</td>\n",
       "    </tr>\n",
       "    <tr>\n",
       "      <th>low100</th>\n",
       "      <td>17.2444</td>\n",
       "      <td>1.731</td>\n",
       "      <td>16.3722</td>\n",
       "      <td>16.088</td>\n",
       "      <td>16.088</td>\n",
       "      <td>16.6172</td>\n",
       "      <td>1.731</td>\n",
       "      <td>15.4412</td>\n",
       "      <td>17.9108</td>\n",
       "      <td>16.2448</td>\n",
       "    </tr>\n",
       "    <tr>\n",
       "      <th>low1000</th>\n",
       "      <td>17.2444</td>\n",
       "      <td>1.731</td>\n",
       "      <td>16.3722</td>\n",
       "      <td>16.088</td>\n",
       "      <td>16.088</td>\n",
       "      <td>16.6172</td>\n",
       "      <td>1.731</td>\n",
       "      <td>15.4412</td>\n",
       "      <td>17.9108</td>\n",
       "      <td>16.2448</td>\n",
       "    </tr>\n",
       "    <tr>\n",
       "      <th>mean</th>\n",
       "      <td>46.0136</td>\n",
       "      <td>37.5876</td>\n",
       "      <td>42.7009</td>\n",
       "      <td>28.9998</td>\n",
       "      <td>37.2862</td>\n",
       "      <td>39.4747</td>\n",
       "      <td>40.4999</td>\n",
       "      <td>28.6992</td>\n",
       "      <td>38.3216</td>\n",
       "      <td>46.1082</td>\n",
       "    </tr>\n",
       "    <tr>\n",
       "      <th>std</th>\n",
       "      <td>42.5031</td>\n",
       "      <td>38.1323</td>\n",
       "      <td>39.1524</td>\n",
       "      <td>25.9232</td>\n",
       "      <td>37.1629</td>\n",
       "      <td>37.5034</td>\n",
       "      <td>39.8831</td>\n",
       "      <td>26.9007</td>\n",
       "      <td>36.8653</td>\n",
       "      <td>42.5353</td>\n",
       "    </tr>\n",
       "  </tbody>\n",
       "</table>\n",
       "</div>"
      ],
      "text/plain": [
       "            Temp0    Temp1    Temp2    Temp3    Temp4    Temp5    Temp6  \\\n",
       "high100   122.153  122.153  122.153  122.153  122.153  122.153  122.153   \n",
       "high1000  122.153  122.153  122.153  122.153  122.153  122.153  122.153   \n",
       "low100    17.2444    1.731  16.3722   16.088   16.088  16.6172    1.731   \n",
       "low1000   17.2444    1.731  16.3722   16.088   16.088  16.6172    1.731   \n",
       "mean      46.0136  37.5876  42.7009  28.9998  37.2862  39.4747  40.4999   \n",
       "std       42.5031  38.1323  39.1524  25.9232  37.1629  37.5034  39.8831   \n",
       "\n",
       "            Temp7    Temp8    Temp9  \n",
       "high100   122.153  122.153  122.153  \n",
       "high1000  122.153  122.153  122.153  \n",
       "low100    15.4412  17.9108  16.2448  \n",
       "low1000   15.4412  17.9108  16.2448  \n",
       "mean      28.6992  38.3216  46.1082  \n",
       "std       26.9007  36.8653  42.5353  "
      ]
     },
     "execution_count": 52,
     "metadata": {},
     "output_type": "execute_result"
    }
   ],
   "source": [
    "df.iloc[:,20:30]"
   ]
  },
  {
   "cell_type": "code",
   "execution_count": 53,
   "metadata": {},
   "outputs": [
    {
     "data": {
      "text/html": [
       "<div>\n",
       "<style scoped>\n",
       "    .dataframe tbody tr th:only-of-type {\n",
       "        vertical-align: middle;\n",
       "    }\n",
       "\n",
       "    .dataframe tbody tr th {\n",
       "        vertical-align: top;\n",
       "    }\n",
       "\n",
       "    .dataframe thead th {\n",
       "        text-align: right;\n",
       "    }\n",
       "</style>\n",
       "<table border=\"1\" class=\"dataframe\">\n",
       "  <thead>\n",
       "    <tr style=\"text-align: right;\">\n",
       "      <th></th>\n",
       "      <th>voltage0</th>\n",
       "      <th>voltage1</th>\n",
       "      <th>voltage2</th>\n",
       "      <th>voltage3</th>\n",
       "      <th>voltage4</th>\n",
       "      <th>voltage5</th>\n",
       "      <th>voltage6</th>\n",
       "      <th>voltage7</th>\n",
       "      <th>voltage8</th>\n",
       "      <th>voltage9</th>\n",
       "    </tr>\n",
       "  </thead>\n",
       "  <tbody>\n",
       "    <tr>\n",
       "      <th>high100</th>\n",
       "      <td>2.7244</td>\n",
       "      <td>2.76242</td>\n",
       "      <td>2.78836</td>\n",
       "      <td>2.7244</td>\n",
       "      <td>2.73696</td>\n",
       "      <td>2.73696</td>\n",
       "      <td>2.73696</td>\n",
       "      <td>2.71196</td>\n",
       "      <td>2.7244</td>\n",
       "      <td>2.85538</td>\n",
       "    </tr>\n",
       "    <tr>\n",
       "      <th>high1000</th>\n",
       "      <td>2.74963</td>\n",
       "      <td>2.80151</td>\n",
       "      <td>2.81479</td>\n",
       "      <td>2.74963</td>\n",
       "      <td>2.74963</td>\n",
       "      <td>2.76242</td>\n",
       "      <td>3.12589</td>\n",
       "      <td>2.74963</td>\n",
       "      <td>2.73696</td>\n",
       "      <td>2.89717</td>\n",
       "    </tr>\n",
       "    <tr>\n",
       "      <th>low100</th>\n",
       "      <td>2.06941</td>\n",
       "      <td>2.03397</td>\n",
       "      <td>2.06222</td>\n",
       "      <td>2.06222</td>\n",
       "      <td>2.11359</td>\n",
       "      <td>2.06222</td>\n",
       "      <td>2.04096</td>\n",
       "      <td>2.1364</td>\n",
       "      <td>2.09866</td>\n",
       "      <td>2.06222</td>\n",
       "    </tr>\n",
       "    <tr>\n",
       "      <th>low1000</th>\n",
       "      <td>2.06941</td>\n",
       "      <td>2.03397</td>\n",
       "      <td>2.06222</td>\n",
       "      <td>2.06222</td>\n",
       "      <td>2.11359</td>\n",
       "      <td>2.06222</td>\n",
       "      <td>2.04096</td>\n",
       "      <td>2.1364</td>\n",
       "      <td>2.09866</td>\n",
       "      <td>2.06222</td>\n",
       "    </tr>\n",
       "    <tr>\n",
       "      <th>mean</th>\n",
       "      <td>1.99998</td>\n",
       "      <td>1.99577</td>\n",
       "      <td>1.99896</td>\n",
       "      <td>1.99968</td>\n",
       "      <td>1.99998</td>\n",
       "      <td>1.9999</td>\n",
       "      <td>2.00267</td>\n",
       "      <td>1.99912</td>\n",
       "      <td>1.99994</td>\n",
       "      <td>2</td>\n",
       "    </tr>\n",
       "    <tr>\n",
       "      <th>std</th>\n",
       "      <td>0.00454522</td>\n",
       "      <td>0.0649539</td>\n",
       "      <td>0.0322936</td>\n",
       "      <td>0.0179294</td>\n",
       "      <td>0.00390295</td>\n",
       "      <td>0.0105141</td>\n",
       "      <td>0.0685738</td>\n",
       "      <td>0.0296234</td>\n",
       "      <td>0.00815518</td>\n",
       "      <td>0.0323572</td>\n",
       "    </tr>\n",
       "  </tbody>\n",
       "</table>\n",
       "</div>"
      ],
      "text/plain": [
       "            voltage0   voltage1   voltage2   voltage3    voltage4   voltage5  \\\n",
       "high100       2.7244    2.76242    2.78836     2.7244     2.73696    2.73696   \n",
       "high1000     2.74963    2.80151    2.81479    2.74963     2.74963    2.76242   \n",
       "low100       2.06941    2.03397    2.06222    2.06222     2.11359    2.06222   \n",
       "low1000      2.06941    2.03397    2.06222    2.06222     2.11359    2.06222   \n",
       "mean         1.99998    1.99577    1.99896    1.99968     1.99998     1.9999   \n",
       "std       0.00454522  0.0649539  0.0322936  0.0179294  0.00390295  0.0105141   \n",
       "\n",
       "           voltage6   voltage7    voltage8   voltage9  \n",
       "high100     2.73696    2.71196      2.7244    2.85538  \n",
       "high1000    3.12589    2.74963     2.73696    2.89717  \n",
       "low100      2.04096     2.1364     2.09866    2.06222  \n",
       "low1000     2.04096     2.1364     2.09866    2.06222  \n",
       "mean        2.00267    1.99912     1.99994          2  \n",
       "std       0.0685738  0.0296234  0.00815518  0.0323572  "
      ]
     },
     "execution_count": 53,
     "metadata": {},
     "output_type": "execute_result"
    }
   ],
   "source": [
    "df.iloc[:,30:40]"
   ]
  },
  {
   "cell_type": "markdown",
   "metadata": {},
   "source": [
    "### Plotting the Box plot, run plot of all the measurements for each cluster"
   ]
  },
  {
   "cell_type": "code",
   "execution_count": 15,
   "metadata": {},
   "outputs": [],
   "source": [
    "def plotclusterBoxPlot(sqlContext,df,cluster,cluster_id,meas):\n",
    "    #for clust in cluster:\n",
    "    #print(clust)\n",
    "    sqlContext.registerDataFrameAsTable(df,'table')\n",
    "    Query=\"SELECT %s FROM table\\n\\t WHERE mote_id IN {0}\"%(meas)\n",
    "    mdf = sqlContext.sql(Query.format(cluster[cluster_id]))\n",
    "    print(meas,': shape of mdf is ',mdf.count())\n",
    "    data=mdf.rdd.map(lambda v: list(v)).filter(lambda x: x is not None).filter(lambda x: x != \"\").cache()\n",
    "    #Compute basic statisticsreturn STAT\n",
    "    data_plt = data.sample(False,0.1).collect();\n",
    "    plt.figure(1)\n",
    "    plt.boxplot(data_plt)\n",
    "    plt.xlabel('x')\n",
    "    plt.ylabel('%s'%(meas))\n",
    "    plt.title(\"Box plot : %s ; Cluster : %s\"%(meas,str(cluster_id)))"
   ]
  },
  {
   "cell_type": "code",
   "execution_count": 22,
   "metadata": {},
   "outputs": [],
   "source": [
    "def getAllMeasurements_Sampled(sqlContext,df,cluster,cluster_id):\n",
    "    sqlContext.registerDataFrameAsTable(df,'table')\n",
    "    Query=\"SELECT * FROM table\\n\\t ORDER BY Date,Time asc\"\n",
    "    mdf = sqlContext.sql(Query)\n",
    "    sqlContext.registerDataFrameAsTable(mdf,'table_1') \n",
    "    Query=\"SELECT Time,Temp,Hum,Light,voltage FROM table_1\\n\\t WHERE mote_id IN {0}\"\n",
    "    mdf = sqlContext.sql(Query.format(cluster[cluster_id]))\n",
    "    #print(meas,': shape of mdf is ',mdf.count())\n",
    "    data=mdf.rdd.map(lambda v: (v.Time,v.Temp,v.Hum,v.Light,v.voltage))\\\n",
    "                .filter(lambda x: x is not None)\\\n",
    "                .filter(lambda x: x != \"\")\\\n",
    "                .cache()\n",
    "    data_plt = data.sample(False,0.1)\n",
    "    temp = data_plt.map(lambda y:y[0])\\\n",
    "                   .filter(lambda x: x is not None)\\\n",
    "                   .filter(lambda x: x != \"\")\\\n",
    "                   .collect();\n",
    "    hum = data_plt.map(lambda y:y[1]).filter(lambda x: x is not None)\\\n",
    "                  .filter(lambda x: x != \"\")\\\n",
    "                  .collect();\n",
    "    light = data_plt.map(lambda y:y[2]).filter(lambda x: x is not None)\\\n",
    "                    .filter(lambda x: x != \"\")\\\n",
    "                    .collect();\n",
    "    volt = data_plt.map(lambda y:y[3]).filter(lambda x: x is not None)\\\n",
    "                    .filter(lambda x: x != \"\")\\\n",
    "                    .collect();\n",
    "    dat =[temp,hum,light,volt] \n",
    "    return dat;"
   ]
  },
  {
   "cell_type": "code",
   "execution_count": 23,
   "metadata": {},
   "outputs": [],
   "source": [
    "boxprops = dict(linestyle='--', linewidth=3, color='darkgoldenrod')\n",
    "flierprops = dict(marker='o', markerfacecolor='green', markersize=12,\n",
    "                  linestyle='none')\n",
    "medianprops = dict(linestyle='-.', linewidth=2.5, color='firebrick')\n",
    "meanpointprops = dict(marker='D', markeredgecolor='black',\n",
    "                      markerfacecolor='firebrick')\n",
    "meanlineprops = dict(linestyle='--', linewidth=2.5, color='purple')"
   ]
  },
  {
   "cell_type": "code",
   "execution_count": 24,
   "metadata": {},
   "outputs": [],
   "source": [
    "dat = getAllMeasurements_Sampled(sqlContext,my_data_unfiltered,cluster,0)"
   ]
  },
  {
   "cell_type": "code",
   "execution_count": 87,
   "metadata": {},
   "outputs": [],
   "source": [
    "dat1 = {}\n",
    "for i in range(len(cluster)):\n",
    "    dat1[str(i)] = getAllMeasurements_Sampled(sqlContext,my_data_unfiltered,cluster,i)\n"
   ]
  },
  {
   "cell_type": "code",
   "execution_count": 95,
   "metadata": {},
   "outputs": [],
   "source": [
    "dat_meas={}\n",
    "\n",
    "for i in range(4):\n",
    "    temp_var = [];\n",
    "    for j in range(len(cluster)):\n",
    "        temp_var.append(dat1[str(j)] [i])\n",
    "        \n",
    "    dat_meas[str(i)] = temp_var\n",
    "        "
   ]
  },
  {
   "cell_type": "code",
   "execution_count": 98,
   "metadata": {
    "scrolled": true
   },
   "outputs": [
    {
     "data": {
      "image/png": "[encoded data removed]",
      "text/plain": [
       "<Figure size 432x288 with 1 Axes>"
      ]
     },
     "metadata": {},
     "output_type": "display_data"
    }
   ],
   "source": [
    "plt.boxplot(dat_meas[\"0\"],flierprops = flierprops,boxprops=boxprops);\n",
    "plt.ylabel(\"Temp\");"
   ]
  },
  {
   "cell_type": "markdown",
   "metadata": {},
   "source": [
    "#### Observing the Box plots\n",
    "- cluster 9's outlier is way beyond the other clusters.\n",
    "- There is a sensor issue in cluster 9 and further analysis of cluster 9 would be useful to identify the problematic sensor\n",
    "- Cluster 7 and cluster 10 also require further analysis\n",
    "- Similarly, huge variations can be observed in few clusters "
   ]
  },
  {
   "cell_type": "code",
   "execution_count": 99,
   "metadata": {
    "scrolled": true
   },
   "outputs": [
    {
     "data": {
      "image/png": "[encoded data removed]",
      "text/plain": [
       "<Figure size 432x288 with 1 Axes>"
      ]
     },
     "metadata": {},
     "output_type": "display_data"
    }
   ],
   "source": [
    "plt.boxplot(dat_meas[\"1\"],flierprops = flierprops,boxprops=boxprops);\n",
    "plt.ylabel(\"Hum\");"
   ]
  },
  {
   "cell_type": "code",
   "execution_count": 100,
   "metadata": {},
   "outputs": [
    {
     "data": {
      "image/png": "[encoded data removed]",
      "text/plain": [
       "<Figure size 432x288 with 1 Axes>"
      ]
     },
     "metadata": {},
     "output_type": "display_data"
    }
   ],
   "source": [
    "plt.boxplot(dat_meas[\"2\"],flierprops = flierprops,boxprops=boxprops);\n",
    "plt.ylabel(\"Light\");"
   ]
  },
  {
   "cell_type": "code",
   "execution_count": 101,
   "metadata": {},
   "outputs": [
    {
     "data": {
      "image/png": "[encoded data removed]",
      "text/plain": [
       "<Figure size 432x288 with 1 Axes>"
      ]
     },
     "metadata": {},
     "output_type": "display_data"
    }
   ],
   "source": [
    "plt.boxplot(dat_meas[\"3\"],flierprops = flierprops,boxprops=boxprops);\n",
    "plt.ylabel(\"voltage\");"
   ]
  },
  {
   "cell_type": "code",
   "execution_count": 29,
   "metadata": {
    "code_folding": []
   },
   "outputs": [],
   "source": [
    "def plotclusterRunPlot(sqlContext,df,cluster,cluster_id,meas):\n",
    "    #for clust in cluster:\n",
    "    #print(clust)\n",
    "    sqlContext.registerDataFrameAsTable(df,'table')\n",
    "    Query=\"SELECT * FROM table\\n\\t ORDER BY Date,Time asc\"\n",
    "    mdf = sqlContext.sql(Query)\n",
    "    sqlContext.registerDataFrameAsTable(mdf,'table_1') \n",
    "    Query=\"SELECT Time,%s FROM table_1\\n\\t WHERE mote_id IN {0}\"%(meas)\n",
    "    mdf = sqlContext.sql(Query.format(cluster[cluster_id]))\n",
    "    if(meas == \"Temp\"):\n",
    "        data=mdf.rdd.map(lambda v: (v.Time,v.Temp))#.filter(lambda x: x is not None).filter(lambda x: x != \"\").cache()    \n",
    "    #Compute basic statisticsreturn STAT\n",
    "    elif(meas == \"Hum\"):\n",
    "        data=mdf.rdd.map(lambda v: (v.Time,v.Hum))#.filter(lambda x: x is not None).filter(lambda x: x != \"\").cache()   \n",
    "    #Compute basic statisticsreturn STAT\n",
    "    elif(meas == \"voltage\"):\n",
    "        data=mdf.rdd.map(lambda v: (v.Time,v.voltage))#.filter(lambda x: x is not None).filter(lambda x: x != \"\").cache() \n",
    "    \n",
    "    #Compute basic statisticsreturn STAT\n",
    "    elif(meas == \"Light\"):\n",
    "        data=mdf.rdd.map(lambda v: (v.Time,v.Light))#.filter(lambda x: x is not None).filter(lambda x: x != \"\").cache() \n",
    "    #Compute basic statisticsreturn STAT\n",
    "    \n",
    "    data_plt = data.sample(False,0.001);\n",
    "   \n",
    "    #print(meas,': shape of data plt is ',data_plt.count())\n",
    "    data_Time = data_plt.map(lambda x:x[0]).collect();\n",
    "    #print(\"collected Time\")\n",
    "    data_meas = data_plt.map(lambda y:y[1]).collect();\n",
    "    #print(\"collected meas\")\n",
    "    plt.figure(1)\n",
    "    plt.plot(data_Time,data_meas)\n",
    "    plt.xlabel('x')\n",
    "    plt.ylabel('%s'%(meas))\n",
    "    plt.gca().tick_params(axis='x',labelbottom=False)\n",
    "    plt.title(\"Run plot : %s ; Cluster : %s\"%(meas,str(cluster_id)))"
   ]
  },
  {
   "cell_type": "code",
   "execution_count": 30,
   "metadata": {},
   "outputs": [],
   "source": [
    "def clusterRunPlotData_All(sqlContext,df,cluster,cluster_id):\n",
    "    #for clust in cluster:\n",
    "    #print(clust)\n",
    "    sqlContext.registerDataFrameAsTable(df,'table')\n",
    "    Query=\"SELECT * FROM table\\n\\t ORDER BY Date,Time asc\"\n",
    "    mdf = sqlContext.sql(Query)\n",
    "    sqlContext.registerDataFrameAsTable(mdf,'table_1') \n",
    "    Query=\"SELECT Time,Temp,Hum,Light,voltage FROM table_1\\n\\t WHERE mote_id IN {0}\"\n",
    "    mdf = sqlContext.sql(Query.format(cluster[cluster_id]))\n",
    "    \n",
    "    #if(meas == \"Temp\"):\n",
    "    data=mdf.rdd.map(lambda v: (v.Time,v.Temp,v.Hum,v.Light,v.voltage))#.filter(lambda x: x is not None).filter(lambda x: x != \"\").cache()    \n",
    " \n",
    "    data_plt = data.sample(False,0.001);\n",
    "   \n",
    "    #print(meas,': shape of data plt is ',data_plt.count())\n",
    "    Time = data_plt.map(lambda x:x[0]).collect();\n",
    "    temp = data_plt.map(lambda y:y[1]).collect();\n",
    "    hum = data_plt.map(lambda y:y[2]).collect();\n",
    "    light = data_plt.map(lambda y:y[3]).collect();\n",
    "    volt = data_plt.map(lambda y:y[4]).collect();\n",
    "    #print(\"collected meas\")\n",
    "    return (Time,temp,hum,light,volt)"
   ]
  },
  {
   "cell_type": "code",
   "execution_count": 31,
   "metadata": {},
   "outputs": [],
   "source": [
    "dat_run = {}\n",
    "for i in range(len(cluster)):\n",
    "    dat_run[str(i)] = clusterRunPlotData_All(sqlContext,my_data_unfiltered,cluster,i)\n"
   ]
  },
  {
   "cell_type": "code",
   "execution_count": 32,
   "metadata": {},
   "outputs": [],
   "source": [
    "dat_meas_run={}\n",
    "\n",
    "for i in range(5):\n",
    "    temp_var = [];\n",
    "    for j in range(len(cluster)):\n",
    "        temp_var.append(dat_run[str(j)] [i])\n",
    "        \n",
    "    dat_meas_run[str(i)] = temp_var\n",
    "        "
   ]
  },
  {
   "cell_type": "markdown",
   "metadata": {},
   "source": [
    "- Due to computation constraints, I have plotted only one sample temp value for cluster 1.\n",
    "- Each of these measurements could be plotted over one another for all clusters\n",
    "- The variations in the data could be observed"
   ]
  },
  {
   "cell_type": "code",
   "execution_count": 35,
   "metadata": {
    "scrolled": true
   },
   "outputs": [
    {
     "data": {
      "text/plain": [
       "Text(0.5,1,'Run plot : Temperature')"
      ]
     },
     "execution_count": 35,
     "metadata": {},
     "output_type": "execute_result"
    },
    {
     "data": {
      "image/png": "[encoded data removed]",
      "text/plain": [
       "<Figure size 432x288 with 1 Axes>"
      ]
     },
     "metadata": {},
     "output_type": "display_data"
    }
   ],
   "source": [
    "plt.plot(dat_meas_run[\"0\"][0],dat_meas_run[\"1\"][0])\n",
    "\"\"\"dat_meas_run[\"0\"][1],dat_meas_run[\"1\"][1],\n",
    "dat_meas_run[\"0\"][2],dat_meas_run[\"1\"][2],\n",
    "dat_meas_run[\"0\"][3],dat_meas_run[\"1\"][3],\n",
    "dat_meas_run[\"0\"][4],dat_meas_run[\"1\"][4],\n",
    "dat_meas_run[\"0\"][5],dat_meas_run[\"1\"][5],\n",
    "dat_meas_run[\"0\"][6],dat_meas_run[\"1\"][6],\n",
    "dat_meas_run[\"0\"][7],dat_meas_run[\"1\"][7],\n",
    "dat_meas_run[\"0\"][8],dat_meas_run[\"1\"][8],\n",
    "dat_meas_run[\"0\"][9],dat_meas_run[\"1\"][9])\"\"\"\n",
    "plt.gca().tick_params(axis='x',labelbottom=False)\n",
    "plt.title(\"Run plot : Temperature\")"
   ]
  },
  {
   "cell_type": "markdown",
   "metadata": {},
   "source": [
    "### Dealing with Nan and its distribution\n",
    "- Dealing with Nan values is important\n",
    "- simplest way of dealing with it is to fill all Nan's with 0. However, mean will be affected in this case.\n",
    "- The calculated values will not be a representative of the dataset.\n",
    "- Observing the distribution of Nan over time is important."
   ]
  },
  {
   "cell_type": "markdown",
   "metadata": {},
   "source": [
    "### Future Directions\n",
    "- Could take multiple samples and get an average of each of the variables for each of the clusters.\n",
    "- This will give us better view of the overall big data.\n",
    "- Prediction of the data nodes with the previous recoded value can reduce the frequency of recording without much loss of information.\n",
    "- Could use adaptive filtering and various other machine learning approaches to predict the sensor data."
   ]
  },
  {
   "cell_type": "code",
   "execution_count": null,
   "metadata": {},
   "outputs": [],
   "source": []
  }
 ],
 "metadata": {
  "kernelspec": {
   "display_name": "Python 3",
   "language": "python",
   "name": "python3"
  },
  "language_info": {
   "codemirror_mode": {
    "name": "ipython",
    "version": 3
   },
   "file_extension": ".py",
   "mimetype": "text/x-python",
   "name": "python",
   "nbconvert_exporter": "python",
   "pygments_lexer": "ipython3",
   "version": "3.6.5"
  },
  "toc": {
   "base_numbering": 1,
   "nav_menu": {},
   "number_sections": true,
   "sideBar": true,
   "skip_h1_title": false,
   "title_cell": "Table of Contents",
   "title_sidebar": "Contents",
   "toc_cell": false,
   "toc_position": {},
   "toc_section_display": true,
   "toc_window_display": false
  },
  "varInspector": {
   "cols": {
    "lenName": 16,
    "lenType": 16,
    "lenVar": 40
   },
   "kernels_config": {
    "python": {
     "delete_cmd_postfix": "",
     "delete_cmd_prefix": "del ",
     "library": "var_list.py",
     "varRefreshCmd": "print(var_dic_list())"
    },
    "r": {
     "delete_cmd_postfix": ") ",
     "delete_cmd_prefix": "rm(",
     "library": "var_list.r",
     "varRefreshCmd": "cat(var_dic_list()) "
    }
   },
   "types_to_exclude": [
    "module",
    "function",
    "builtin_function_or_method",
    "instance",
    "_Feature"
   ],
   "window_display": false
  }
 },
 "nbformat": 4,
 "nbformat_minor": 2
}
